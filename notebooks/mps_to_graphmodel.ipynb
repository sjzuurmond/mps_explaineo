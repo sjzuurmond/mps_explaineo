{
 "cells": [
  {
   "cell_type": "code",
   "execution_count": 1,
   "id": "4165ad26-b85c-443e-9ea9-42f4cf70a51d",
   "metadata": {
    "ExecuteTime": {
     "end_time": "2023-03-05T13:18:46.153750Z",
     "start_time": "2023-03-05T13:18:46.126749Z"
    },
    "tags": []
   },
   "outputs": [],
   "source": [
    "%load_ext autoreload\n",
    "%autoreload 2"
   ]
  },
  {
   "cell_type": "code",
   "execution_count": 3,
   "id": "140a32be-dd37-4b25-8619-2b21299a7173",
   "metadata": {
    "ExecuteTime": {
     "end_time": "2023-03-05T13:18:47.918162Z",
     "start_time": "2023-03-05T13:18:47.896884Z"
    },
    "tags": []
   },
   "outputs": [
    {
     "ename": "ModuleNotFoundError",
     "evalue": "No module named 'mps_explaineo'",
     "output_type": "error",
     "traceback": [
      "\u001b[0;31m---------------------------------------------------------------------------\u001b[0m",
      "\u001b[0;31mModuleNotFoundError\u001b[0m                       Traceback (most recent call last)",
      "Cell \u001b[0;32mIn[3], line 1\u001b[0m\n\u001b[0;32m----> 1\u001b[0m \u001b[39mfrom\u001b[39;00m \u001b[39mmps_explaineo\u001b[39;00m\u001b[39m.\u001b[39;00m\u001b[39mexplanation_method\u001b[39;00m \u001b[39mimport\u001b[39;00m ExplanationMethod\n\u001b[1;32m      2\u001b[0m \u001b[39mfrom\u001b[39;00m \u001b[39mIPython\u001b[39;00m\u001b[39m.\u001b[39;00m\u001b[39mdisplay\u001b[39;00m \u001b[39mimport\u001b[39;00m HTML, Image\n",
      "\u001b[0;31mModuleNotFoundError\u001b[0m: No module named 'mps_explaineo'"
     ]
    }
   ],
   "source": [
    "from mps_explaineo.explanation_method import ExplanationMethod\n",
    "from IPython.display import HTML, Image"
   ]
  },
  {
   "cell_type": "code",
   "execution_count": null,
   "id": "e1267ef0",
   "metadata": {},
   "outputs": [],
   "source": [
    "# name of both the directory in \\data\\{alef_service} and the database name in the neo4j GDBMS\n",
    "decision_name = 'belastingrente'\n",
    "explanation_method = ExplanationMethod.from_decision_name(decision_name)\n",
    "ge = explanation_method.global_explanation\n",
    "le = explanation_method.local_explanation"
   ]
  },
  {
   "cell_type": "code",
   "execution_count": null,
   "id": "6c36b617",
   "metadata": {},
   "outputs": [],
   "source": [
    "# explanation_method.delete_all_graph()"
   ]
  },
  {
   "cell_type": "code",
   "execution_count": null,
   "id": "567c17f2",
   "metadata": {},
   "outputs": [],
   "source": [
    "HTML(f\"\"\"\n",
    "    <div style=\"display: flex; align-items: flex-start;\">\n",
    "            <img src={\"../explanation_method/media/relations.png\"} style=\"width:35%\"> </img>\n",
    "            <img src={\"../explanation_method/media/nodes.png\"} style=\"width:35%\"> </img>\n",
    "    </div>\n",
    "    \"\"\")"
   ]
  },
  {
   "attachments": {},
   "cell_type": "markdown",
   "id": "19b00ff0",
   "metadata": {},
   "source": [
    "### Explanation - Modelling expert"
   ]
  },
  {
   "cell_type": "code",
   "execution_count": null,
   "id": "a68fb240",
   "metadata": {},
   "outputs": [],
   "source": [
    "display(HTML(\"<h3>Wat is het Objectmodel?</h3>\"))\n",
    "display(Image(\"../explanation_method/media/model_object.png\"))\n",
    "\n",
    "display(HTML(\"<h3>Wat is het Regelmodel?</h3>\"))\n",
    "display(Image(\"../explanation_method/media/model_regel.png\"))\n",
    "\n",
    "display(HTML(\"<h3>Wat is het Servicemodel?</h3>\"))\n",
    "display(Image(\"../explanation_method/media/model_service.png\"))"
   ]
  },
  {
   "cell_type": "code",
   "execution_count": null,
   "id": "e0f62455",
   "metadata": {},
   "outputs": [],
   "source": [
    "display(HTML(\"\"\"\n",
    "    <div style=\"display:flex; justify-content:center; align-items:center; flex-wrap:wrap;\">\n",
    "        <div style=\"margin:10px;\">\n",
    "            <h3>Wat is het Objectmodel?</h3>\n",
    "            <img src=\"../explanation_method/media/model_object.png\" alt=\"Objectmodel\">\n",
    "        </div>\n",
    "        <div style=\"margin:10px;\">\n",
    "            <h3>Wat is het Regelmodel?</h3>\n",
    "            <img src=\"../explanation_method/media/model_regel.png\" alt=\"Regelmodel\">\n",
    "        </div>\n",
    "        <div style=\"margin:10px;\">\n",
    "            <h3>Wat is het Servicemodel?</h3>\n",
    "            <img src=\"../explanation_method/media/model_service.png\" alt=\"Servicemodel\">\n",
    "        </div>\n",
    "    </div>\n",
    "\"\"\"))"
   ]
  },
  {
   "attachments": {},
   "cell_type": "markdown",
   "id": "c8e4e8fd",
   "metadata": {},
   "source": [
    "##### Service checks"
   ]
  },
  {
   "cell_type": "code",
   "execution_count": null,
   "id": "b88f753e",
   "metadata": {},
   "outputs": [],
   "source": [
    "display(HTML(f\"\"\"\n",
    "       <div style=\"display: flex; align-items: stretch; padding:10px; width:60%;\">\n",
    "              <div style=\"display: flex; flex-direction: column; justify-content: flex-start; width:50%\">\n",
    "                     <div style=\"flex: 1;\">\n",
    "                     <h3> Worden alle in- en uitvoerberichten gebruikt? </h3>\n",
    "                     </div>\n",
    "                     <div style=\"flex: 1;\">\n",
    "                     {ge.path_check_inoutput()} \n",
    "                     </div>\n",
    "                     <br>\n",
    "                     <br>\n",
    "                     <div style=\"flex: 1;\">\n",
    "                     {ge.path_check_inoutput(output_type='html_table')}\n",
    "                     </div>\n",
    "              </div>\n",
    "              <div style=\"display: flex; flex-direction: column; justify-content: flex-start; width:50%\">\n",
    "                     <img src=\"../explanation_method/media/whether_inoutservice.png\"> </img>\n",
    "              </div>\n",
    "       </div>\n",
    "\n",
    "    \"\"\"))"
   ]
  },
  {
   "cell_type": "code",
   "execution_count": null,
   "id": "d52067be",
   "metadata": {},
   "outputs": [],
   "source": [
    "display(HTML(f\"\"\"\n",
    "       <div style=\"display: flex; align-items: stretch; padding:10px; heigh:100%;\">\n",
    "              <div style=\"display: flex; flex-direction: column; justify-content: flex-start; width:40%\">\n",
    "                     <div style=\"flex: 1;\">\n",
    "                            <h3> Worden alle invoervariabelen gebruikt om iets voor de uitvoer te berekenen? </h3>\n",
    "                     </div>\n",
    "                     <div style=\"flex: 1;\">\n",
    "                            {ge.service_check_input()} \n",
    "                     </div>\n",
    "                     <br>\n",
    "                     <div style=\"flex: 1;\">\n",
    "                            {ge.service_check_input(output_type='html_table')}\n",
    "                     </div>\n",
    "                     <br>\n",
    "                     <div style=\"flex: 1;\">\n",
    "                            <h3> Kunnen alle uitvoervariabelen worden berekend, gegeven de invoervariabelen? </h3>\n",
    "                     </div>\n",
    "                     <div style=\"flex: 1;\">\n",
    "                            {ge.service_check_output()} \n",
    "                     </div>\n",
    "                     <br>\n",
    "                     <div style=\"flex: 1;\">\n",
    "                            {ge.service_check_output(output_type='html_table')}\n",
    "                     </div>\n",
    "              </div>\n",
    "              <img src=\"../explanation_method/media/whether_paths.png\", style=\"width:60%\"> </img>\n",
    "       </div>\n",
    "    \"\"\"))"
   ]
  },
  {
   "cell_type": "code",
   "execution_count": null,
   "id": "34457817",
   "metadata": {},
   "outputs": [],
   "source": [
    "display(HTML(f\"\"\"\n",
    "       <div style=\"display: flex; align-items: stretch; padding:10px; heigh:100%;\">\n",
    "              <div style=\"display: flex; flex-direction: column; justify-content: flex-start; width:40%\">\n",
    "                     <div style=\"flex: 1;\">\n",
    "                            <h3> Worden alle variabelen gebruikt? </h3>\n",
    "                     </div>\n",
    "                     <div style=\"flex: 1;\">\n",
    "                            {ge.path_check_variables()} \n",
    "                     </div>\n",
    "                     <br>\n",
    "                     <br>\n",
    "                     <div style=\"flex: 1;\">\n",
    "                            {ge.path_check_variables(output_type='html_table')}\n",
    "                     </div>\n",
    "              </div>\n",
    "              <img src=\"../explanation_method/media/whether_paths.png\", style=\"width:50%\"> </img>\n",
    "       </div>\n",
    "    \"\"\"))"
   ]
  },
  {
   "cell_type": "code",
   "execution_count": null,
   "id": "86897386",
   "metadata": {},
   "outputs": [],
   "source": [
    "display(HTML(f\"\"\"\n",
    "       <div style=\"display: flex; align-items: flex-start; padding:10px;\">\n",
    "              <div style=\"display: flex; flex-direction: column; justify-content: flex-start; width:40%\">\n",
    "                     <div style=\"flex: 1;\">\n",
    "                            <h3> Worden alle variabelen toegekend? </h3>\n",
    "                     </div>\n",
    "                     <div style=\"flex: 1;\">\n",
    "                            {ge.assignment_check_variables()} \n",
    "                     </div>\n",
    "                     <br>\n",
    "                     <br>\n",
    "                     <div style=\"flex: 1;\">\n",
    "                            {ge.assignment_check_variables(output_type='html_table')}\n",
    "                     </div>\n",
    "              </div>\n",
    "              <img src=\"../explanation_method/media/whether_assignment_variabelen.png\", style=\"width:60%;\"> </img>\n",
    "       </div>\n",
    "    \"\"\"))"
   ]
  },
  {
   "attachments": {},
   "cell_type": "markdown",
   "id": "3ac49e1f",
   "metadata": {},
   "source": [
    "#### Logic checks"
   ]
  },
  {
   "cell_type": "code",
   "execution_count": null,
   "id": "9cbc3152",
   "metadata": {},
   "outputs": [],
   "source": [
    "display(HTML(ge.logic_check_rules()))\n",
    "display(HTML(ge.logic_check_rules(output_type='html_table')))"
   ]
  },
  {
   "attachments": {},
   "cell_type": "markdown",
   "id": "ec85542a",
   "metadata": {},
   "source": [
    "### Explanation - Explainer"
   ]
  },
  {
   "attachments": {},
   "cell_type": "markdown",
   "id": "f79a537a",
   "metadata": {},
   "source": [
    "#### Data"
   ]
  },
  {
   "cell_type": "code",
   "execution_count": null,
   "id": "31242491",
   "metadata": {},
   "outputs": [],
   "source": [
    "rule_amount = 6\n",
    "display(HTML(f\"\"\"\n",
    "       <div style=\"display: flex; align-items: flex-start; width:100%; padding:10px;\">\n",
    "              <div style=\"flex-direction: column; justify-content: flex-start; width:50%; padding:10px;\">\n",
    "                     <div style=\"flex: 1;\">\n",
    "                            <h3> Welke beslissingen heeft het systeem genomen? </h3>\n",
    "                     </div>\n",
    "                     <div style=\"flex: 1;\">\n",
    "                            {le.what_decisions()} \n",
    "                     </div>\n",
    "                     <br>\n",
    "                     <div style=\"flex: 1;\">\n",
    "                            <h3> Welke (persoonlijke) informatie is gebruikt voor deze beslissingen? </h3>\n",
    "                     </div>\n",
    "                     <div style=\"flex: 1;\">\n",
    "                            {le.what_personal_data()} \n",
    "                     </div>\n",
    "              </div>\n",
    "              <div style=\"flex: 1; display: flex; flex-direction: column; justify-content: flex-start; width:50%; padding:10px; overflow: hidden;\">\n",
    "                     <div style=\"flex: 1;\">\n",
    "                            <h3> Welke regels zijn gebruikt voor deze beslissingen? </h3>\n",
    "                     </div>\n",
    "                     <div style=\"flex: 1;\">\n",
    "                            {\"<br>\".join([html.data for html in le.what_rules()[:rule_amount]])} \n",
    "                     </div>\n",
    "              </div>\n",
    "       </div>\n",
    "    \"\"\"))"
   ]
  },
  {
   "attachments": {},
   "cell_type": "markdown",
   "id": "5bcbeee9",
   "metadata": {},
   "source": [
    "#### Reasoning"
   ]
  },
  {
   "cell_type": "code",
   "execution_count": null,
   "id": "b6808396",
   "metadata": {},
   "outputs": [],
   "source": [
    "display(HTML(f\"\"\"\n",
    "       <div style=\"display: flex; align-items: flex-start; width:100%; padding:10px;\">\n",
    "              <div style=\"flex-direction: column; justify-content: flex-start; width:50%; padding:10px;\">\n",
    "                     <div style=\"flex: 1;\">\n",
    "                            <h3> Waarom zijn deze beslissingen gemaakt? </h3>\n",
    "                     </div>\n",
    "                     <br>\n",
    "                     <img src=\"../explanation_method/media/why_local.png\", style=\"width:100%; margin:-2%;\"> </img>\n",
    "              </div>\n",
    "              <div style=\"flex-direction: column; justify-content: flex-start; width:50%; padding:10px;\">\n",
    "                     <div style=\"flex: 1;\">\n",
    "                            <h3> Waarom zijn deze beslissingen gemaakt? (filtered) </h3>\n",
    "                     </div>\n",
    "                     <img src=\"../explanation_method/media/why_local_filtered.png\", style=\"width:100%; margin:-2%;\"> </img>\n",
    "              </div> \n",
    "       </div>\n",
    "       \n",
    "    \"\"\"))\n",
    "\n",
    "\n"
   ]
  },
  {
   "cell_type": "code",
   "execution_count": null,
   "id": "1ef45cc8",
   "metadata": {},
   "outputs": [],
   "source": [
    "# Why is this decision made?\n",
    "why_decision = 'belastingrente verschuldigd wegens te late betaling' #CHANGEABLE\n",
    "why_object = 'Belastingplichtige'\n",
    "\n",
    "# Why is not that decision made? NOTE: only works for unsigned values\n",
    "why_not_decision = 'volledig betaald' #CHANGEABLE\n",
    "why_not_object = 'Aangifte'\n",
    "\n",
    "# What?\n",
    "what_variabele = \"openstaand bedrag\"\n",
    "what_object = \"Aangifte\""
   ]
  },
  {
   "cell_type": "code",
   "execution_count": null,
   "id": "5d9f5e2a",
   "metadata": {},
   "outputs": [],
   "source": [
    "display(HTML(f\"\"\"\n",
    "       <div style=\"flex-direction: column; justify-content: flex-start; width:100%; padding:10px;\">\n",
    "              <div style=\"flex: 1;\">\n",
    "                     <h3> Waarom zijn deze beslissingen gemaakt? </h3>\n",
    "              </div>\n",
    "              <br>\n",
    "              <img src=\"../explanation_method/media/why_local.png\", style=\"width:100%; margin:-2%;\"> </img>\n",
    "       </div>\n",
    "       <div style=\"display: flex; align-items: flex-start; width:100%; padding:10px;\">\n",
    "              <div style=\"flex-direction: column; justify-content: flex-start; width:50%; padding:10px;\">\n",
    "                     <div style=\"flex: 1;\">\n",
    "                            <h3> Waarom is de {why_object} {why_decision}? </h3>\n",
    "                     </div>\n",
    "                     <div style=\"flex: 1;\">\n",
    "                            {\"<br>\".join([html.data for html in le.why_decision(why_decision, why_object)])} \n",
    "                     </div>\n",
    "                     <br>\n",
    "                     <img src=\"../explanation_method/media/why_telatebetaling.png\", style=\"width:100%; \"> </img>\n",
    "              </div>\n",
    "              <div style=\"flex-direction: column; justify-content: flex-start; width:50%; padding:10px;\">\n",
    "                     <div style=\"flex: 1;\">\n",
    "                            <h3> Waarom is de {why_object} {why_decision}? (Trace) </h3>\n",
    "                     </div>\n",
    "                     <div>\n",
    "                            {\"<br>\".join([html.data for html in le.why_paths(why_decision, why_object)])} \n",
    "                     </div>\n",
    "              </div> \n",
    "       </div>\n",
    "       <img src=\"../explanation_method/media/why_telatebetaling_paths.png\", style=\"width:100%; margin-top:-20%; margin-bottom:-10%;\"> </img>\n",
    "    \"\"\"))"
   ]
  },
  {
   "cell_type": "code",
   "execution_count": null,
   "id": "67fc3db1",
   "metadata": {},
   "outputs": [],
   "source": [
    "display(HTML(f\"\"\"\n",
    "       <div style=\"display: flex; align-items: flex-start; width:100%; padding:10px;\">\n",
    "              <div style=\"flex-direction: column; justify-content: flex-start; width:50%; padding:10px;\">\n",
    "                     <div style=\"flex: 1;\">\n",
    "                            <h3> Waarom is de {why_not_object} niet {why_not_decision}? </h3>\n",
    "                     </div>\n",
    "                     <div style=\"flex: 1;\">\n",
    "                            {\"<br>\".join([html.data for html in le.why_decision(why_not_decision, why_not_object, negative=True)])} \n",
    "                     </div>\n",
    "                     <br>\n",
    "                     <img src=\"../explanation_method/media/why_not_volledigbetaald_blured.png\", style=\"width:100%; margin:-10%;\"> </img>\n",
    "                     <div style=\"flex: 1;\">\n",
    "                            <h3>  Wat is het {what_variabele} van de {what_object}? </h3>\n",
    "                     </div>\n",
    "                     <div style=\"flex: 1;\">\n",
    "                            {le.what(what_variabele, what_object)} \n",
    "                     </div>\n",
    "              </div> \n",
    "    \"\"\"))\n",
    "\n",
    "# What if?\n",
    "# NOTE: not implemented, as explanation method does not re-calculate itself and there is no live integration."
   ]
  }
 ],
 "metadata": {
  "kernelspec": {
   "display_name": "Python 3 (ipykernel)",
   "language": "python",
   "name": "python3"
  },
  "language_info": {
   "codemirror_mode": {
    "name": "ipython",
    "version": 3
   },
   "file_extension": ".py",
   "mimetype": "text/x-python",
   "name": "python",
   "nbconvert_exporter": "python",
   "pygments_lexer": "ipython3",
   "version": "3.11.2"
  },
  "toc": {
   "base_numbering": 1,
   "nav_menu": {},
   "number_sections": true,
   "sideBar": true,
   "skip_h1_title": false,
   "title_cell": "Table of Contents",
   "title_sidebar": "Contents",
   "toc_cell": false,
   "toc_position": {},
   "toc_section_display": true,
   "toc_window_display": false
  },
  "varInspector": {
   "cols": {
    "lenName": 16,
    "lenType": 16,
    "lenVar": 40
   },
   "kernels_config": {
    "python": {
     "delete_cmd_postfix": "",
     "delete_cmd_prefix": "del ",
     "library": "var_list.py",
     "varRefreshCmd": "print(var_dic_list())"
    },
    "r": {
     "delete_cmd_postfix": ") ",
     "delete_cmd_prefix": "rm(",
     "library": "var_list.r",
     "varRefreshCmd": "cat(var_dic_list()) "
    }
   },
   "types_to_exclude": [
    "module",
    "function",
    "builtin_function_or_method",
    "instance",
    "_Feature"
   ],
   "window_display": false
  },
  "vscode": {
   "interpreter": {
    "hash": "0471bff5c9bd7545038632dd5157c361dc3d2da86c3ba111d04842d82e9089d4"
   }
  }
 },
 "nbformat": 4,
 "nbformat_minor": 5
}
